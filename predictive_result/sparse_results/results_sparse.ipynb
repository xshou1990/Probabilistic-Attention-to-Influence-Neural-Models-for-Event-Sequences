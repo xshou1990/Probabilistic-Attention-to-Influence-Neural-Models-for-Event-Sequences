{
 "cells": [
  {
   "cell_type": "markdown",
   "metadata": {},
   "source": [
    "# binary prediction results with sparse_tau "
   ]
  },
  {
   "cell_type": "code",
   "execution_count": 1,
   "metadata": {},
   "outputs": [],
   "source": [
    "import pandas as pd"
   ]
  },
  {
   "cell_type": "code",
   "execution_count": 2,
   "metadata": {},
   "outputs": [
    {
     "data": {
      "text/plain": [
       "test_ll   -21.335853\n",
       "dtype: float64"
      ]
     },
     "execution_count": 2,
     "metadata": {},
     "output_type": "execute_result"
    }
   ],
   "source": [
    "beige = pd.read_csv('beige_log.txt',sep=',',header=None)\n",
    "beige.columns = ['threshold','event','valid_ll','test_ll']\n",
    "idx = beige.groupby('event')['valid_ll'].transform(max) == beige['valid_ll']\n",
    "beige[idx].agg({'test_ll':'mean'})"
   ]
  },
  {
   "cell_type": "code",
   "execution_count": 3,
   "metadata": {},
   "outputs": [
    {
     "data": {
      "text/plain": [
       "test_ll   -108.109027\n",
       "dtype: float64"
      ]
     },
     "execution_count": 3,
     "metadata": {},
     "output_type": "execute_result"
    }
   ],
   "source": [
    "so = pd.read_csv('so_log.txt',sep=',',header=None)\n",
    "so.columns = ['threshold','event','valid_ll','test_ll']\n",
    "idx = so.groupby('event')['valid_ll'].transform(max) == so['valid_ll']\n",
    "so[idx].agg({'test_ll':'mean'})"
   ]
  },
  {
   "cell_type": "code",
   "execution_count": 4,
   "metadata": {},
   "outputs": [
    {
     "data": {
      "text/plain": [
       "test_ll   -448.177805\n",
       "dtype: float64"
      ]
     },
     "execution_count": 4,
     "metadata": {},
     "output_type": "execute_result"
    }
   ],
   "source": [
    "diabetes = pd.read_csv('diabetes_log.txt',sep=',',header=None)\n",
    "diabetes.columns = ['threshold','event','valid_ll','test_ll']\n",
    "idx = diabetes.groupby('event')['valid_ll'].transform(max) == diabetes['valid_ll']\n",
    "diabetes[idx].agg({'test_ll':'mean'})"
   ]
  },
  {
   "cell_type": "code",
   "execution_count": 5,
   "metadata": {},
   "outputs": [
    {
     "data": {
      "text/plain": [
       "test_ll   -91.880187\n",
       "dtype: float64"
      ]
     },
     "execution_count": 5,
     "metadata": {},
     "output_type": "execute_result"
    }
   ],
   "source": [
    "linkedin = pd.read_csv('linkedin_log.txt',sep=',',header=None)\n",
    "linkedin.columns = ['threshold','event','valid_ll','test_ll']\n",
    "idx = linkedin.groupby('event')['valid_ll'].transform(max) == linkedin['valid_ll']\n",
    "linkedin[idx].agg({'test_ll':'mean'})"
   ]
  },
  {
   "cell_type": "code",
   "execution_count": 7,
   "metadata": {},
   "outputs": [
    {
     "data": {
      "text/plain": [
       "test_ll   -126.678127\n",
       "dtype: float64"
      ]
     },
     "execution_count": 7,
     "metadata": {},
     "output_type": "execute_result"
    }
   ],
   "source": [
    "timelines = pd.read_csv('timelines_log.txt',sep=',',header=None)\n",
    "timelines.columns = ['threshold','event','valid_ll','test_ll']\n",
    "idx = timelines.groupby('event')['valid_ll'].transform(max) == timelines['valid_ll']\n",
    "timelines[idx].agg({'test_ll':'mean'})"
   ]
  },
  {
   "cell_type": "code",
   "execution_count": null,
   "metadata": {},
   "outputs": [],
   "source": []
  }
 ],
 "metadata": {
  "kernelspec": {
   "display_name": "Python (health3)",
   "language": "python",
   "name": "health3"
  },
  "language_info": {
   "codemirror_mode": {
    "name": "ipython",
    "version": 3
   },
   "file_extension": ".py",
   "mimetype": "text/x-python",
   "name": "python",
   "nbconvert_exporter": "python",
   "pygments_lexer": "ipython3",
   "version": "3.7.3"
  }
 },
 "nbformat": 4,
 "nbformat_minor": 2
}
