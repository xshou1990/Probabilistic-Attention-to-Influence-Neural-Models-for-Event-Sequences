{
 "cells": [
  {
   "cell_type": "code",
   "execution_count": 1,
   "metadata": {},
   "outputs": [],
   "source": [
    "import numpy as np\n",
    "import pickle\n",
    "import random"
   ]
  },
  {
   "cell_type": "code",
   "execution_count": 2,
   "metadata": {},
   "outputs": [],
   "source": [
    "\n",
    "with open('eventregistry-all-2021-eng-summaries_strict_v1.pickle', 'rb') as f:\n",
    "    train = pickle.load(f)"
   ]
  },
  {
   "cell_type": "code",
   "execution_count": 3,
   "metadata": {},
   "outputs": [],
   "source": [
    "# L = list(train.values())\n",
    "# L = [item for sublist in L for item in sublist]\n",
    "# x = list(set(L))\n",
    "# dic = dict(zip(x, list(range(1,len(x)+1))))"
   ]
  },
  {
   "cell_type": "code",
   "execution_count": 13,
   "metadata": {},
   "outputs": [],
   "source": [
    "event_of_interest = ['bomb attack',\n",
    "'protest',\n",
    "'economic crisis',\n",
    "\"coup d'état\",\n",
    "'tsunami',\n",
    "'work accident',\n",
    "'murder',\n",
    "'regime change',\n",
    "'massacre']"
   ]
  },
  {
   "cell_type": "code",
   "execution_count": 14,
   "metadata": {},
   "outputs": [
    {
     "name": "stdout",
     "output_type": "stream",
     "text": [
      "37\n",
      "6\n",
      "32\n",
      "42\n",
      "35\n",
      "13\n",
      "31\n",
      "24\n",
      "30\n"
     ]
    }
   ],
   "source": [
    "for event in event_of_interest:\n",
    "    print(dic[event])"
   ]
  },
  {
   "cell_type": "code",
   "execution_count": 4,
   "metadata": {},
   "outputs": [],
   "source": [
    "dic = {'impeachment': 1,\n",
    " 'crime': 2,\n",
    " 'procession': 3,\n",
    " 'volcanic eruption': 4,\n",
    " 'explosion': 5,\n",
    " 'protest': 6,\n",
    " 'disease outbreak': 7,\n",
    " 'infectious disease': 8,\n",
    " 'arson': 9,\n",
    " 'suicide': 10,\n",
    " 'armed conflict': 11,\n",
    " 'statutory law': 12,\n",
    " 'work accident': 13,\n",
    " 'theft': 14,\n",
    " 'civil disorder': 15,\n",
    " 'hazard': 16,\n",
    " 'conflict': 17,\n",
    " 'emerging communicable disease': 18,\n",
    " 'natural disaster': 19,\n",
    " 'social issue': 20,\n",
    " 'fraud': 21,\n",
    " 'school shooting': 22,\n",
    " 'riot': 23,\n",
    " 'regime change': 24,\n",
    " 'shortage': 25,\n",
    " 'scandal': 26,\n",
    " 'earthquake': 27,\n",
    " 'industrial disaster': 28,\n",
    " 'mass shooting': 29,\n",
    " 'massacre': 30,\n",
    " 'murder': 31,\n",
    " 'economic crisis': 32,\n",
    " 'energy crisis': 33,\n",
    " 'attack': 34,\n",
    " 'tsunami': 35,\n",
    " 'accident': 36,\n",
    " 'bomb attack': 37,\n",
    " 'risk factor': 38,\n",
    " 'disaster': 39,\n",
    " 'aviation accident': 40,\n",
    " 'looting': 41,\n",
    " \"coup d'état\": 42}"
   ]
  },
  {
   "cell_type": "code",
   "execution_count": 5,
   "metadata": {},
   "outputs": [],
   "source": [
    "# produce a list of lists of dictionaries for n simulations, \n",
    "#np.random.seed(0)\n",
    "\n",
    "dict_list_total = []\n",
    "for i, (k, v) in enumerate(train.items()):\n",
    "    event_times = []\n",
    "    event_types = []\n",
    "    dict_list = []\n",
    "    counter = 1\n",
    "    for j in v:\n",
    "        event_times.append( counter )\n",
    "        event_types.append(dic[j])\n",
    "        counter += 1\n",
    "    inter_times = np.ediff1d(event_times)\n",
    "    inter_times = np.insert(inter_times, 0,0)\n",
    "    for l in range(len(event_times)):\n",
    "        dicti = {'time_since_start': event_times[l],\n",
    "        'time_since_last_event': inter_times[l],\n",
    "        'type_event': event_types[l] }\n",
    "        dict_list.append(dicti) \n",
    "    dict_list_total.append(dict_list)\n"
   ]
  },
  {
   "cell_type": "code",
   "execution_count": 6,
   "metadata": {},
   "outputs": [
    {
     "data": {
      "text/plain": [
       "15821"
      ]
     },
     "execution_count": 6,
     "metadata": {},
     "output_type": "execute_result"
    }
   ],
   "source": [
    "len(dict_list_total)"
   ]
  },
  {
   "cell_type": "code",
   "execution_count": 7,
   "metadata": {},
   "outputs": [],
   "source": [
    "seed = 0\n",
    "random.seed(seed)\n",
    "dim = len(dic)\n",
    "n_realizations = len(dict_list_total)\n",
    "te_ind = random.sample(range(0, n_realizations), int(n_realizations*0.3))\n",
    "tot_ind = list(range(0, n_realizations))\n",
    "tr_ind = list(set(tot_ind) - set(te_ind))"
   ]
  },
  {
   "cell_type": "code",
   "execution_count": 8,
   "metadata": {},
   "outputs": [],
   "source": [
    "dim = len(dic)\n",
    "train_dict = {'dim_process':dim, 'devtest':[], 'args': None, 'dev':[], 'train': [dict_list_total[i] for i in tr_ind], 'test':[]}"
   ]
  },
  {
   "cell_type": "code",
   "execution_count": 9,
   "metadata": {},
   "outputs": [],
   "source": [
    "dim = len(dic)\n",
    "dev_dict = {'dim_process':dim, 'devtest':[], 'args': None, 'dev':[dict_list_total[i] for i in te_ind], 'train': [], 'test':[]}"
   ]
  },
  {
   "cell_type": "code",
   "execution_count": 10,
   "metadata": {},
   "outputs": [
    {
     "data": {
      "text/plain": [
       "42"
      ]
     },
     "execution_count": 10,
     "metadata": {},
     "output_type": "execute_result"
    }
   ],
   "source": [
    "uniq_list = []\n",
    "for i in range( len( train_dict['train'] ) ) :\n",
    "    for j in range (len( train_dict['train'] [i]) ):\n",
    "        uniq_list.append(train_dict['train'] [i][j]['type_event'])\n",
    "len(np.unique(np.array(uniq_list)))"
   ]
  },
  {
   "cell_type": "code",
   "execution_count": 11,
   "metadata": {},
   "outputs": [
    {
     "data": {
      "text/plain": [
       "41"
      ]
     },
     "execution_count": 11,
     "metadata": {},
     "output_type": "execute_result"
    }
   ],
   "source": [
    "uniq_list = []\n",
    "for i in range( len( dev_dict['dev'] ) ) :\n",
    "    for j in range (len( dev_dict['dev'] [i]) ):\n",
    "        uniq_list.append(dev_dict['dev'] [i][j]['type_event'])\n",
    "len(np.unique(np.array(uniq_list)))"
   ]
  },
  {
   "cell_type": "code",
   "execution_count": 12,
   "metadata": {},
   "outputs": [],
   "source": [
    "with open('train.pkl', 'wb') as fp:\n",
    "    pickle.dump(train_dict, fp)\n",
    "with open('dev.pkl', 'wb') as fp:\n",
    "    pickle.dump(dev_dict, fp)"
   ]
  },
  {
   "cell_type": "code",
   "execution_count": null,
   "metadata": {},
   "outputs": [],
   "source": []
  }
 ],
 "metadata": {
  "kernelspec": {
   "display_name": "Python (health3)",
   "language": "python",
   "name": "health3"
  },
  "language_info": {
   "codemirror_mode": {
    "name": "ipython",
    "version": 3
   },
   "file_extension": ".py",
   "mimetype": "text/x-python",
   "name": "python",
   "nbconvert_exporter": "python",
   "pygments_lexer": "ipython3",
   "version": "3.7.3"
  }
 },
 "nbformat": 4,
 "nbformat_minor": 2
}
