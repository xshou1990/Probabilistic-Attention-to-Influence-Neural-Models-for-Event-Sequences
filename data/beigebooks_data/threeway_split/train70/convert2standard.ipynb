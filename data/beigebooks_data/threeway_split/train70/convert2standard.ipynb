{
 "cells": [
  {
   "cell_type": "code",
   "execution_count": 1,
   "metadata": {},
   "outputs": [],
   "source": [
    "import numpy as np\n",
    "import pickle"
   ]
  },
  {
   "cell_type": "code",
   "execution_count": 2,
   "metadata": {},
   "outputs": [],
   "source": [
    "\n",
    "with open('beigebooks_seq_train', 'rb') as f:\n",
    "    train = pickle.load(f)"
   ]
  },
  {
   "cell_type": "code",
   "execution_count": 3,
   "metadata": {},
   "outputs": [],
   "source": [
    "L = list(train.values())\n",
    "L = [item for sublist in L for item in sublist]\n",
    "x = list(set(L))\n",
    "dic = dict(zip(x, list(range(1,len(x)+1))))"
   ]
  },
  {
   "cell_type": "code",
   "execution_count": 4,
   "metadata": {},
   "outputs": [],
   "source": [
    "# produce a list of lists of dictionaries for n simulations, \n",
    "#np.random.seed(0)\n",
    "\n",
    "dict_list_total = []\n",
    "for i, (k, v) in enumerate(train.items()):\n",
    "    event_times = []\n",
    "    event_types = []\n",
    "    dict_list = []\n",
    "    counter = 1\n",
    "    for j in v:\n",
    "        event_times.append( counter )\n",
    "        event_types.append(dic[j])\n",
    "        counter += 1\n",
    "    inter_times = np.ediff1d(event_times)\n",
    "    inter_times = np.insert(inter_times, 0,0)\n",
    "    for l in range(len(event_times)):\n",
    "        dicti = {'time_since_start': event_times[l],\n",
    "        'time_since_last_event': inter_times[l],\n",
    "        'type_event': event_types[l] }\n",
    "        dict_list.append(dicti) \n",
    "    dict_list_total.append(dict_list)\n"
   ]
  },
  {
   "cell_type": "code",
   "execution_count": 5,
   "metadata": {},
   "outputs": [],
   "source": [
    "dim = len(dic)\n",
    "train_dict = {'dim_process':dim, 'devtest':[], 'args': None, 'dev':[], 'train': dict_list_total, 'test':[]}"
   ]
  },
  {
   "cell_type": "code",
   "execution_count": 6,
   "metadata": {},
   "outputs": [],
   "source": [
    "input_filename = 'beigebooks_seq_train'\n",
    "with open('../../{}.pkl'.format(input_filename), 'wb') as fp:\n",
    "    pickle.dump(train_dict, fp)"
   ]
  },
  {
   "cell_type": "code",
   "execution_count": 7,
   "metadata": {},
   "outputs": [],
   "source": [
    "input_filename = 'beigebooks_seq_dev'\n",
    "with open('beigebooks_seq_dev', 'rb') as f:\n",
    "    train = pickle.load(f)"
   ]
  },
  {
   "cell_type": "code",
   "execution_count": 8,
   "metadata": {},
   "outputs": [],
   "source": [
    "# produce a list of lists of dictionaries for n simulations, \n",
    "#np.random.seed(0)\n",
    "\n",
    "dict_list_total = []\n",
    "for i, (k, v) in enumerate(train.items()):\n",
    "    event_times = []\n",
    "    event_types = []\n",
    "    dict_list = []\n",
    "    counter = 1\n",
    "    for j in v:\n",
    "        event_times.append( counter )\n",
    "        event_types.append(dic[j])\n",
    "        counter += 1\n",
    "    inter_times = np.ediff1d(event_times)\n",
    "    inter_times = np.insert(inter_times, 0,0)\n",
    "    for l in range(len(event_times)):\n",
    "        dicti = {'time_since_start': event_times[l],\n",
    "        'time_since_last_event': inter_times[l],\n",
    "        'type_event': event_types[l] }\n",
    "        dict_list.append(dicti) \n",
    "    dict_list_total.append(dict_list)"
   ]
  },
  {
   "cell_type": "code",
   "execution_count": 9,
   "metadata": {},
   "outputs": [],
   "source": [
    "dim = len(dic)\n",
    "dev_dict = {'dim_process':dim, 'devtest':[], 'args': None, 'dev':dict_list_total, 'train': [], 'test':[]}"
   ]
  },
  {
   "cell_type": "code",
   "execution_count": 10,
   "metadata": {},
   "outputs": [],
   "source": [
    "with open('../../{}.pkl'.format(input_filename), 'wb') as fp:\n",
    "    pickle.dump(dev_dict, fp)"
   ]
  },
  {
   "cell_type": "code",
   "execution_count": 11,
   "metadata": {},
   "outputs": [],
   "source": [
    "input_filename = 'beigebooks_seq_test'\n",
    "with open('beigebooks_seq_test', 'rb') as f:\n",
    "    train = pickle.load(f)"
   ]
  },
  {
   "cell_type": "code",
   "execution_count": 12,
   "metadata": {},
   "outputs": [],
   "source": [
    "dict_list_total = []\n",
    "for i, (k, v) in enumerate(train.items()):\n",
    "    event_times = []\n",
    "    event_types = []\n",
    "    dict_list = []\n",
    "    counter = 1\n",
    "    for j in v:\n",
    "        event_times.append( counter )\n",
    "        event_types.append(dic[j])\n",
    "        counter += 1\n",
    "    inter_times = np.ediff1d(event_times)\n",
    "    inter_times = np.insert(inter_times, 0,0)\n",
    "    for l in range(len(event_times)):\n",
    "        dicti = {'time_since_start': event_times[l],\n",
    "        'time_since_last_event': inter_times[l],\n",
    "        'type_event': event_types[l] }\n",
    "        dict_list.append(dicti) \n",
    "    dict_list_total.append(dict_list)"
   ]
  },
  {
   "cell_type": "code",
   "execution_count": 13,
   "metadata": {},
   "outputs": [],
   "source": [
    "dim = len(dic)\n",
    "test_dict = {'dim_process':dim, 'devtest':[], 'args': None, 'dev':[], 'train': [], 'test':dict_list_total}"
   ]
  },
  {
   "cell_type": "code",
   "execution_count": 14,
   "metadata": {},
   "outputs": [],
   "source": [
    "with open('../../{}.pkl'.format(input_filename), 'wb') as fp:\n",
    "    pickle.dump(test_dict, fp)"
   ]
  },
  {
   "cell_type": "code",
   "execution_count": null,
   "metadata": {},
   "outputs": [],
   "source": []
  }
 ],
 "metadata": {
  "kernelspec": {
   "display_name": "Python (health3)",
   "language": "python",
   "name": "health3"
  },
  "language_info": {
   "codemirror_mode": {
    "name": "ipython",
    "version": 3
   },
   "file_extension": ".py",
   "mimetype": "text/x-python",
   "name": "python",
   "nbconvert_exporter": "python",
   "pygments_lexer": "ipython3",
   "version": "3.7.3"
  }
 },
 "nbformat": 4,
 "nbformat_minor": 2
}
