{
 "cells": [
  {
   "cell_type": "code",
   "execution_count": null,
   "metadata": {},
   "outputs": [],
   "source": [
    "import sklearn.metrics\n",
    "import numpy as np\n",
    "import pandas as pd\n",
    "import ast\n",
    "import sklearn.metrics"
   ]
  },
  {
   "cell_type": "code",
   "execution_count": null,
   "metadata": {},
   "outputs": [],
   "source": [
    "results = pd.read_csv('graph2_ablation_result/eventE_630.txt',header =None)\n",
    "results.columns =['label','valid_LL','train_posterior','dev_posterior','test_posterior']"
   ]
  },
  {
   "cell_type": "code",
   "execution_count": null,
   "metadata": {},
   "outputs": [],
   "source": [
    "#f1 calculator\n",
    "def f1_cal(train,test,y_true):\n",
    "\n",
    "  #  test_ = \n",
    "    test_ = list(np.linspace(0, 1, num=101)) + [number - 1e-12 for number in test]\n",
    "\n",
    "    train_f1_list = []\n",
    "    test_f1_list = []\n",
    "    for theta in test_:\n",
    "        train_f1 = sklearn.metrics.f1_score(y_true, np.array(train)>theta )\n",
    "        train_f1_list.append(train_f1)\n",
    "        test_f1 = sklearn.metrics.f1_score(y_true, np.array(test)>theta )\n",
    "        test_f1_list.append(test_f1)\n",
    "\n",
    "    max_train_f1 = max(train_f1_list)   \n",
    "    max_test_f1 = np.expand_dims(np.array(test_f1_list),axis=1) [np.array(train_f1_list) == max_train_f1].max()\n",
    "\n",
    "    return max_test_f1"
   ]
  },
  {
   "cell_type": "code",
   "execution_count": null,
   "metadata": {},
   "outputs": [],
   "source": [
    "#graph-1\n",
    "# event B\n",
    "# y_true = [1, 0, 0, 0, 0]\n",
    "# event C\n",
    "# y_true = [1, 1, 0, 0, 0]\n",
    "#event D\n",
    "# y_true = [0, 0, 0, 0, 1]\n",
    "#event E\n",
    "# y_true = [0, 0, 0, 1, 0]\n",
    "\n",
    "# graph-2\n",
    "# event B\n",
    "#y_true = [1, 0, 0, 0, 0]\n",
    "# event C\n",
    "# y_true = [1, 1, 0, 0, 0]\n",
    "#event D\n",
    "#y_true = [1, 0, 0, 0, 0]\n",
    "#event E\n",
    "y_true = [1, 1, 0, 0, 0]\n"
   ]
  },
  {
   "cell_type": "code",
   "execution_count": null,
   "metadata": {},
   "outputs": [],
   "source": [
    "f1_list = []\n",
    "for i in range(100):\n",
    "    print(i)\n",
    "    dev = ast.literal_eval(results.iloc[i]['dev_posterior'][1:].replace(' ',',').replace(',,',',').replace(',]',']').replace(',[','[').replace(',,',',').replace(',,',',').replace(',,',','))\n",
    "    test = ast.literal_eval(results.iloc[i]['test_posterior'][1:].replace(' ',',').replace(',,',',').replace(',]',']').replace('],',']').replace(',,',',').replace(',,',',').replace(',,',','))\n",
    "    f1_list.append(f1_cal(dev,test,y_true))\n",
    "print(np.mean(np.array(f1_list)))\n",
    "print(np.std(np.array(f1_list)))"
   ]
  },
  {
   "cell_type": "code",
   "execution_count": null,
   "metadata": {},
   "outputs": [],
   "source": []
  }
 ],
 "metadata": {
  "kernelspec": {
   "display_name": "Python (health3)",
   "language": "python",
   "name": "health3"
  },
  "language_info": {
   "codemirror_mode": {
    "name": "ipython",
    "version": 3
   },
   "file_extension": ".py",
   "mimetype": "text/x-python",
   "name": "python",
   "nbconvert_exporter": "python",
   "pygments_lexer": "ipython3",
   "version": "3.7.3"
  }
 },
 "nbformat": 4,
 "nbformat_minor": 2
}
